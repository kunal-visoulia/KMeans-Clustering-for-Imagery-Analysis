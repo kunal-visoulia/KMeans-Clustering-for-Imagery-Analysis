{
 "cells": [
  {
   "cell_type": "code",
   "execution_count": 2,
   "metadata": {},
   "outputs": [],
   "source": [
    "import sys\n",
    "import sklearn\n",
    "import matplotlib\n",
    "import numpy as np"
   ]
  },
  {
   "cell_type": "code",
   "execution_count": 3,
   "metadata": {},
   "outputs": [
    {
     "name": "stderr",
     "output_type": "stream",
     "text": [
      "Using TensorFlow backend.\n"
     ]
    },
    {
     "name": "stdout",
     "output_type": "stream",
     "text": [
      "Training Data: (60000, 28, 28)\n",
      "Training Labels: (60000,)\n"
     ]
    }
   ],
   "source": [
    "from keras.datasets import mnist\n",
    "#use of keras only for dataset\n",
    "(x_train,y_train),(x_test,y_test)=mnist.load_data()\n",
    "\n",
    "print('Training Data: {}'.format(x_train.shape))\n",
    "print('Training Labels: {}'.format(y_train.shape))"
   ]
  },
  {
   "cell_type": "code",
   "execution_count": 4,
   "metadata": {},
   "outputs": [
    {
     "name": "stdout",
     "output_type": "stream",
     "text": [
      "Testing Data: (10000, 28, 28)\n",
      "Testing Labels: (10000,)\n"
     ]
    }
   ],
   "source": [
    "print('Testing Data: {}'.format(x_test.shape))\n",
    "print('Testing Labels: {}'.format(y_test.shape))\n"
   ]
  },
  {
   "cell_type": "code",
   "execution_count": 5,
   "metadata": {},
   "outputs": [],
   "source": [
    "import matplotlib.pyplot as plt\n",
    "\n",
    "# python magic function\n",
    "%matplotlib inline"
   ]
  },
  {
   "cell_type": "code",
   "execution_count": 6,
   "metadata": {},
   "outputs": [
    {
     "name": "stderr",
     "output_type": "stream",
     "text": [
      "/usr/local/lib/python3.6/dist-packages/matplotlib/figure.py:445: UserWarning: Matplotlib is currently using module://ipykernel.pylab.backend_inline, which is a non-GUI backend, so cannot show the figure.\n",
      "  % get_backend())\n"
     ]
    },
    {
     "data": {
      "image/png": "[encoded data removed]",
      "text/plain": [
       "<Figure size 864x864 with 9 Axes>"
      ]
     },
     "metadata": {
      "needs_background": "light"
     },
     "output_type": "display_data"
    }
   ],
   "source": [
    "# create figure with 3x3 subplots using matplotlib.pyplot\n",
    "fig,axs=plt.subplots(3,3,figsize=(12,12))\n",
    "plt.gray()#cuz images are going to be black and white\n",
    "\n",
    "#loop through subplots and add mnist images\n",
    "for i,ax in enumerate(axs.flat):\n",
    "    #flatten the axis so we can loop through with a single index\n",
    "    ax.matshow(x_train[i])\n",
    "    ax.axis('off')#remove tickmarks cuz they are images \n",
    "    ax.set_title('Number {}'.format(y_train[i]))\n",
    "    \n",
    "fig.show()    "
   ]
  },
  {
   "cell_type": "markdown",
   "metadata": {},
   "source": [
    "through deep learning got 99%+ accuracy but with kmeans that much is not achievable:aim is to understand kmeans(a clustering algo) and high dimensional data\n",
    "So if you want to do strictly classification on images deep learning is the way to go "
   ]
  },
  {
   "cell_type": "markdown",
   "metadata": {},
   "source": [
    "# Preprocessing the MNIST images\n",
    "Images stored as NumPy arrays are 2-dimensional arrays. However, the K-means clustering algorithm provided by scikit-learn ingests 1-dimensional arrays; as a result, we will need to reshape each image.\n",
    "\n",
    "Clustering algorithms almost always use 1-dimensional data. For example, if you were clustering a set of X, Y coordinates, each point would be passed to the clustering algorithm as a 1-dimensional array with a length of two (example: [2,4] or [-1, 4]). If you were using 3-dimensional data, the array would have a length of 3 (example: [2, 4, 1] or [-1, 4, 5]).\n",
    "\n",
    "MNIST contains images that are 28 by 28 pixels; as a result, they will have a length of 784 once we reshape them into a 1-dimensional array."
   ]
  },
  {
   "cell_type": "code",
   "execution_count": 7,
   "metadata": {},
   "outputs": [
    {
     "name": "stdout",
     "output_type": "stream",
     "text": [
      "(60000, 784)\n",
      "(784,)\n"
     ]
    }
   ],
   "source": [
    "#convert each image to 1D array\n",
    "X=x_train.reshape(len(x_train),-1)#if -1,calculate new array length automatically\n",
    "Y=y_train#already 1d array\n",
    "\n",
    "#normalize the data to o-1 cuz value ranges from 0 to 255\n",
    "X=X.astype(float)/255.\n",
    "\n",
    "print(X.shape)\n",
    "print(X[0].shape)"
   ]
  },
  {
   "cell_type": "markdown",
   "metadata": {},
   "source": [
    "#  K-Means Clustering\n",
    "Due to the size of the MNIST dataset, we will use the mini-batch implementation of k-means clustering provided by scikit-learn. This will dramatically reduce the amount of time it takes to fit the algorithm to the data.\n",
    "\n",
    "The MNIST dataset contains images of the integers 0 to 9. Thus, set the number of clusters to 10, one for each digit."
   ]
  },
  {
   "cell_type": "code",
   "execution_count": 8,
   "metadata": {},
   "outputs": [
    {
     "name": "stdout",
     "output_type": "stream",
     "text": [
      "10\n"
     ]
    },
    {
     "data": {
      "text/plain": [
       "MiniBatchKMeans(batch_size=100, compute_labels=True, init='k-means++',\n",
       "        init_size=None, max_iter=100, max_no_improvement=10, n_clusters=10,\n",
       "        n_init=3, random_state=None, reassignment_ratio=0.01, tol=0.0,\n",
       "        verbose=0)"
      ]
     },
     "execution_count": 8,
     "metadata": {},
     "output_type": "execute_result"
    }
   ],
   "source": [
    "from sklearn.cluster import MiniBatchKMeans\n",
    "#uses mini batches to solve and fit the training data much faster; imp. cuz we have 60k images\n",
    "#but at the cost of accuracy\n",
    "n_digits=len(np.unique(y_test))\n",
    "print(n_digits)\n",
    "#initialize Kmeans model\n",
    "kmeans=MiniBatchKMeans(n_clusters=n_digits)\n",
    "\n",
    "kmeans.fit(X)"
   ]
  },
  {
   "cell_type": "markdown",
   "metadata": {},
   "source": [
    "random state not set thus different results possible "
   ]
  },
  {
   "cell_type": "code",
   "execution_count": 9,
   "metadata": {},
   "outputs": [
    {
     "name": "stdout",
     "output_type": "stream",
     "text": [
      "(60000,)\n"
     ]
    },
    {
     "data": {
      "text/plain": [
       "array([1, 6, 5, 9, 0, 2, 3, 8, 3, 0, 1, 9, 7, 4, 3, 0, 2, 8, 3, 0],\n",
       "      dtype=int32)"
      ]
     },
     "execution_count": 9,
     "metadata": {},
     "output_type": "execute_result"
    }
   ],
   "source": [
    "print(kmeans.labels_.shape)\n",
    "kmeans.labels_[:20]"
   ]
  },
  {
   "cell_type": "markdown",
   "metadata": {},
   "source": [
    "here the label 4 (for first image),doesn't mean that the image was integer 4; it means that it was assigned to the 4th cluster\n",
    "\n",
    "Also, as kmeans is unsupervised , it doesn't know what these clusters are supposed to represent,thus , we need to assign labels to each of these clusters"
   ]
  },
  {
   "cell_type": "markdown",
   "metadata": {},
   "source": [
    "# Assigning Cluster Labels\n",
    "K-means clustering is an unsupervised machine learning method; consequently, ***the labels assigned by our KMeans algorithm refer to the cluster each array was assigned to, not the actual target integer***.\n",
    "\n",
    "To fix this, define  functions that will predict which integer corresponds to each cluster."
   ]
  },
  {
   "cell_type": "code",
   "execution_count": 23,
   "metadata": {},
   "outputs": [],
   "source": [
    "def infer_cluster_labels(kmeans, actual_labels):\n",
    "    \"\"\"\n",
    "    Associates most probable label with each cluster in KMeans model\n",
    "    \n",
    "    returns: dictionary of clusters assigned to each label\n",
    "    this is cuz if number of clusters>number of labels,multiple clusters will be assigned to single label\n",
    "    \"\"\"\n",
    "\n",
    "    inferred_labels = {}\n",
    "\n",
    "    for i in range(kmeans.n_clusters):#loop through the clusters\n",
    "\n",
    "        # find index of points(images) in cluster\n",
    "        labels = []\n",
    "        index = np.where(kmeans.labels_ == i)\n",
    "        #find all the points that have been assigned to this cluster\n",
    "\n",
    "        # append actual labels for each point in cluster\n",
    "        labels.append(actual_labels[index])\n",
    "        \n",
    "        #so now for each cluster, we have list of all the points(images) that are in this cluster\n",
    "        #and we have added all of the actual labels for those points to this labels list\n",
    "        \n",
    "        # determine most common label; assign the cluster most common label that occurs in that cluster\n",
    "        #creating a bincount for all of the label values that have been assigned into each cluster\n",
    "        if len(labels[0]) == 1:#if first index=1\n",
    "            counts = np.bincount(labels[0])#don't need squeeze function\n",
    "        else:\n",
    "            counts = np.bincount(np.squeeze(labels))\n",
    "        #above if/else avoida errors later when using higher no. of clusters\n",
    "            \n",
    "        # assign the cluster to a value in the inferred_labels dictionary\n",
    "        #argmax returns int value for the maximum bincounts\n",
    "        if np.argmax(counts) in inferred_labels:\n",
    "            # append the new number to the existing array at this key\n",
    "            inferred_labels[np.argmax(counts)].append(i)#appends cluster label\n",
    "        else:\n",
    "            # create a new array in this key\n",
    "            inferred_labels[np.argmax(counts)] = [i]#i as list so we can append to it\n",
    "        #actual_labels:cluster#\n",
    "        \n",
    "        #         print(labels)\n",
    "        #         print('Cluster: {}, label: {}'.format(i, np.argmax(counts)))\n",
    "        \n",
    "    return inferred_labels  \n",
    "\n",
    "def infer_data_labels(X_labels, cluster_labels):\n",
    "    \"\"\"\n",
    "    Determines label for each array of image, depending on the cluster it has been assigned to.\n",
    "    returns: predicted labels for each array\n",
    "    \"\"\"\n",
    "    \n",
    "    # empty array of len(X)\n",
    "    predicted_labels = np.zeros(len(X_labels)).astype(np.uint8)\n",
    "    \n",
    "    for i, cluster in enumerate(X_labels):\n",
    "        for key, value in cluster_labels.items():\n",
    "            if cluster in value:#the cluster point was assined to is in the dictionary(the list clusters for each integer)\n",
    "                predicted_labels[i] = key\n",
    "                \n",
    "    return predicted_labels"
   ]
  },
  {
   "cell_type": "code",
   "execution_count": 24,
   "metadata": {},
   "outputs": [
    {
     "name": "stdout",
     "output_type": "stream",
     "text": [
      "[1 6 5 ... 8 4 8] (60000,)\n",
      "{7: [0], 3: [1, 7], 2: [2], 1: [3, 9], 6: [4], 4: [5], 0: [6], 8: [8]}\n",
      "[3 0 4 1 7 2 1 8 1 7 3 1 3 6 1 7 2 8 1 7]\n",
      "[5 0 4 1 9 2 1 3 1 4 3 5 3 6 1 7 2 8 6 9]\n"
     ]
    }
   ],
   "source": [
    "#test the infer_cluster_labels() and infer_data_labels() \n",
    "cluster_labels=infer_cluster_labels(kmeans,Y)\n",
    "X_clusters=kmeans.predict(X)#predict cluster labels/ can also use kmeans.labels_ as well\n",
    "predicted_labels=infer_data_labels(X_clusters,cluster_labels)\n",
    "\n",
    "print(X_clusters,X_clusters.shape)\n",
    "print(cluster_labels)\n",
    "print(predicted_labels[:20])\n",
    "print(Y[:20])"
   ]
  },
  {
   "cell_type": "markdown",
   "metadata": {},
   "source": [
    "# Optimizing and Evaluating the Clustering Algorithm\n",
    "Since we are using this clustering algorithm for classification, accuracy is ultimately the most important metric; however, there are other metrics out there that can be applied directly to the clusters themselves, regardless of the associated labels. Two of these metrics that we will use are inertia and homogeneity.\n",
    "\n",
    "Furthermore, earlier we made the assumption that K = 10 was the appropriate number of clusters; however, this might not be the case. Let's fit the K-means clustering algorithm with several different values of K, than evaluate the performance using our metrics.\n",
    "\n"
   ]
  },
  {
   "cell_type": "code",
   "execution_count": 25,
   "metadata": {},
   "outputs": [],
   "source": [
    "from sklearn import metrics\n",
    "\n",
    "def calculate_matrics(estimator,data,labels):\n",
    "    print('Number of clusters: {}'.format(estimator.n_clusters))\n",
    "    print('Inertia: {}'.format(estimator.inertia_))\n",
    "    #within cluster sum of squares difference; looks at the spread of the clusters in the high dimesnional space we are working in\n",
    "    #tightly grouped clusters:low inertia\n",
    "    #vice versa for widely spaced clusters\n",
    "    #goes down as the number of cluster increases and also depends on the number of datapoints\n",
    "    \n",
    "    print('Homogeneity: {}'.format(metrics.homogeneity_score(labels,estimator.labels_)))#actual class labels, estiamtor labels\n",
    "    # a clustering result satisfies homogeneity if all the clusters contain only those data points which are members of a single class(same labels) \n",
    "    "
   ]
  },
  {
   "cell_type": "markdown",
   "metadata": {},
   "source": [
    "# Accuracy on training dataset"
   ]
  },
  {
   "cell_type": "code",
   "execution_count": 30,
   "metadata": {},
   "outputs": [
    {
     "name": "stdout",
     "output_type": "stream",
     "text": [
      "Number of clusters: 10\n",
      "Inertia: 2389282.5376547435\n",
      "Homogeneity: 0.44810906278308577\n",
      "Accuracy: 0.52095\n",
      "\n",
      "Number of clusters: 16\n",
      "Inertia: 2204631.869813872\n",
      "Homogeneity: 0.5682534854165137\n",
      "Accuracy: 0.6692666666666667\n",
      "\n",
      "Number of clusters: 36\n",
      "Inertia: 1976296.851215268\n",
      "Homogeneity: 0.668778774155368\n",
      "Accuracy: 0.7342166666666666\n",
      "\n",
      "Number of clusters: 64\n",
      "Inertia: 1822661.3534384826\n",
      "Homogeneity: 0.7318628892517384\n",
      "Accuracy: 0.8039\n",
      "\n",
      "Number of clusters: 144\n",
      "Inertia: 1635226.8812118405\n",
      "Homogeneity: 0.8036050098123823\n",
      "Accuracy: 0.8663833333333333\n",
      "\n",
      "Number of clusters: 256\n",
      "Inertia: 1512363.485018906\n",
      "Homogeneity: 0.8384416983440075\n",
      "Accuracy: 0.89395\n",
      "\n"
     ]
    },
    {
     "name": "stderr",
     "output_type": "stream",
     "text": [
      "/usr/local/lib/python3.6/dist-packages/sklearn/cluster/k_means_.py:1559: RuntimeWarning: init_size=300 should be larger than k=400. Setting it to 3*k\n",
      "  init_size=init_size)\n",
      "/usr/local/lib/python3.6/dist-packages/sklearn/cluster/k_means_.py:1559: RuntimeWarning: init_size=300 should be larger than k=400. Setting it to 3*k\n",
      "  init_size=init_size)\n",
      "/usr/local/lib/python3.6/dist-packages/sklearn/cluster/k_means_.py:1559: RuntimeWarning: init_size=300 should be larger than k=400. Setting it to 3*k\n",
      "  init_size=init_size)\n"
     ]
    },
    {
     "name": "stdout",
     "output_type": "stream",
     "text": [
      "Number of clusters: 400\n",
      "Inertia: 1432057.0670305884\n",
      "Homogeneity: 0.861597361026549\n",
      "Accuracy: 0.9095166666666666\n",
      "\n"
     ]
    }
   ],
   "source": [
    "clusters=[10,16,36,64,144,256,400]#good even number(sqaures of 4,6,8,12,16 and 10 being the minimum number of clusters)\n",
    "\n",
    "#test for different numbers of clusters\n",
    "for n_clusters in clusters:\n",
    "    estimator=MiniBatchKMeans(n_clusters=n_clusters)\n",
    "    estimator.fit(X)\n",
    "    \n",
    "    calculate_matrics(estimator,X,Y)\n",
    "    \n",
    "    #determine predicted labels\n",
    "    cluster_labels=infer_cluster_labels(estimator,Y)\n",
    "    predicted_Y=infer_data_labels(estimator.labels_,cluster_labels)#here i used kmeans.labels_ than kmeans.predict(X)\n",
    "    \n",
    "    print('Accuracy: {}\\n'.format(metrics.accuracy_score(Y,predicted_Y)))"
   ]
  },
  {
   "cell_type": "markdown",
   "metadata": {},
   "source": [
    "small number of clusters=> faster calculations\n",
    "inertia=0 => sum of squares difference=0 => number of clusters= number of data points,ie, only one data point in each cluster\n",
    "\n",
    "Also for 400 clusters,accuracy actually increased  slightly and it took substantially larger time than 256,So 256 is some what nice tradeoff\n",
    "\n",
    "**The above accuracies vary each time it's run cuz we are randomly intializing where the centroid is starting as no random state seed was set; SO INITIALIZATION IS IMP. FOR KMEANS CLUSTERING**"
   ]
  },
  {
   "cell_type": "code",
   "execution_count": 31,
   "metadata": {},
   "outputs": [
    {
     "name": "stdout",
     "output_type": "stream",
     "text": [
      "Accuracy: 0.899\n",
      "\n"
     ]
    }
   ],
   "source": [
    "# test kmeans algorithm on testing dataset\n",
    "# convert each image to 1 dimensional array\n",
    "X_test=x_test.reshape(len(x_test),-1)\n",
    "\n",
    "#normalize the data to 0 - 1\n",
    "X_test=X_test.astype(float)/255.\n",
    "\n",
    "# initialize and fit KMeans algorithm on training data\n",
    "kmeans=MiniBatchKMeans(n_clusters=256)\n",
    "kmeans.fit(X)#retraining so we can generate cluster_labels dictionary again\n",
    "cluster_labels=infer_cluster_labels(kmeans,Y)\n",
    "\n",
    "#predict labels for testing data\n",
    "test_clusters=kmeans.predict(X_test)#predict which cluster each test image belongs to\n",
    "predicted_labels=infer_data_labels(kmeans.predict(X_test),cluster_labels)\n",
    "\n",
    "# calculate and print accuracy\n",
    "print('Accuracy: {}\\n'.format(metrics.accuracy_score(y_test, predicted_labels)))"
   ]
  },
  {
   "cell_type": "markdown",
   "metadata": {},
   "source": [
    "**So we are equall accurate on testing as well as training data => generalizing(no overfitting) very well given we have 10k test images**"
   ]
  },
  {
   "cell_type": "markdown",
   "metadata": {},
   "source": [
    "# hey, we had only 10 digits, so 10 cluster should work?? why 256 works very well??\n",
    "**ANS**: There are multiple ways to write number 2 and to the computer those are going to be drastically different images and as a result they fit better in different clusters than in the same cluster. to understand visualize:"
   ]
  },
  {
   "cell_type": "markdown",
   "metadata": {},
   "source": [
    "# Visualizing Cluster Centroids\n",
    "The most representative point within each cluster is called the centroid. If we were dealing with X,Y points, the centroid would simply be a point on the graph. However, since we are using arrays of length 784, our centroid is also going to be an array of length 784(we are gonna be high dimensional in that space). We can reshape this array back into a 28 by 28 pixel image and plot it.\n",
    "\n",
    "These graphs will display the most representative image for each cluster."
   ]
  },
  {
   "cell_type": "code",
   "execution_count": 32,
   "metadata": {},
   "outputs": [
    {
     "data": {
      "image/png": "[encoded data removed]",
      "text/plain": [
       "<Figure size 1440x1440 with 36 Axes>"
      ]
     },
     "metadata": {
      "needs_background": "light"
     },
     "output_type": "display_data"
    }
   ],
   "source": [
    "# Initialize and fit KMeans algorithm\n",
    "kmeans = MiniBatchKMeans(n_clusters = 36)\n",
    "kmeans.fit(X)\n",
    "\n",
    "# record centroid values\n",
    "centroids = kmeans.cluster_centers_ #algo picks a centroid and assign all of the points close to it to that particluar cluster\n",
    "#then, recalcualte the centroid and iterate over that process again and again, till the values are not changing anymore\n",
    "\n",
    "# reshape centroids into images\n",
    "images = centroids.reshape(36, 28, 28)#length=36 as we use 36 clusters(thus 36 centroids) for easy plotting\n",
    "#not much concerned about accuracy here just visualzing the centroids\n",
    "images *= 255\n",
    "images = images.astype(np.uint8)\n",
    "\n",
    "# determine cluster labels\n",
    "cluster_labels = infer_cluster_labels(kmeans, Y)\n",
    "\n",
    "# create figure with subplots using matplotlib.pyplot\n",
    "fig, axs = plt.subplots(6, 6, figsize = (20, 20))\n",
    "plt.gray()\n",
    "\n",
    "# loop through subplots and add centroid images\n",
    "for i, ax in enumerate(axs.flat):\n",
    "    \n",
    "    # determine inferred label using cluster_labels dictionary\n",
    "    for key, value in cluster_labels.items():\n",
    "        if i in value:\n",
    "            ax.set_title('Inferred Label: {}'.format(key))\n",
    "    \n",
    "    # add image to subplot\n",
    "    ax.matshow(images[i])\n",
    "    ax.axis('off')\n",
    "    "
   ]
  },
  {
   "cell_type": "markdown",
   "metadata": {},
   "source": [
    "still there are some misclassifications(due to blurriness)\n",
    "\n",
    "In deep neural n/w's, you can't visualize as above so that's why we used kmeans"
   ]
  }
 ],
 "metadata": {
  "kernelspec": {
   "display_name": "Python 3",
   "language": "python",
   "name": "python3"
  },
  "language_info": {
   "codemirror_mode": {
    "name": "ipython",
    "version": 3
   },
   "file_extension": ".py",
   "mimetype": "text/x-python",
   "name": "python",
   "nbconvert_exporter": "python",
   "pygments_lexer": "ipython3",
   "version": "3.6.7"
  }
 },
 "nbformat": 4,
 "nbformat_minor": 2
}
